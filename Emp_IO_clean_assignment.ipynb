{
 "cells": [
  {
   "cell_type": "code",
   "execution_count": 1,
   "metadata": {},
   "outputs": [],
   "source": [
    "import pandas as pd\n",
    "import numpy as np\n",
    "import random as rnd\n",
    "import scipy.stats as stats\n",
    "import scipy.optimize as opt\n",
    "from types import FunctionType\n",
    "import json as json\n",
    "import matplotlib as mpl\n",
    "from math import exp\n",
    "from matplotlib import pyplot as plt\n",
    "\n",
    "rnd.seed(2)\n",
    "import warnings\n",
    "warnings.filterwarnings('ignore')"
   ]
  },
  {
   "cell_type": "markdown",
   "metadata": {},
   "source": [
    "# 0. Introduction"
   ]
  },
  {
   "cell_type": "markdown",
   "metadata": {},
   "source": [
    "Following the instructions in the assignment, the code below (1) assigns values to underlying parameters, using the same assumptions as in the \"John Rust 1987 Python\" Notebook and shows where the values for choice probabilities appear from, (2) simulates transition path of a single bus taking choice probabilities as given and their logarithm equal to the relative expected value of replacement decision; (3) calculates the simulated relative expected value of replacing the bus engine in the first period that results from the path and compares it to the one taken as given.  \n",
    "\n",
    "As is evident from the description, we do not simply assume all parameters as given, but rather choose to keep some parts of the original code, where the values are derived. This, in conjunction with extensive comments and function descriptions, is aimed at assuring that the reader always knows where these values come from."
   ]
  },
  {
   "cell_type": "markdown",
   "metadata": {},
   "source": [
    "# 1. Assigning values to underlying parameters"
   ]
  },
  {
   "cell_type": "markdown",
   "metadata": {},
   "source": [
    "## 1.1. Initializing Parameters"
   ]
  },
  {
   "cell_type": "markdown",
   "metadata": {},
   "source": [
    "We start with setting the parameters for milage transition of buses. Assuming that the milage follows a truncated normal distribution with the mean of 6000 and standard deviation of 4000, we can calculate transition probabilities from the cumulative distribution function of the milage.  "
   ]
  },
  {
   "cell_type": "code",
   "execution_count": 2,
   "metadata": {},
   "outputs": [],
   "source": [
    "#arbitrarily choosen parameteres\n",
    "lower, upper = 0, 15000\n",
    "mu, sigma = 6000, 4000\n",
    "mileage_dist = stats.truncnorm((lower - mu) / sigma, (upper - mu) / sigma, loc=mu, scale=sigma)"
   ]
  },
  {
   "cell_type": "code",
   "execution_count": 3,
   "metadata": {},
   "outputs": [],
   "source": [
    "#calculating transition probabilities\n",
    "p_x0 = mileage_dist.cdf(5000)\n",
    "p_x1 = mileage_dist.cdf(10000) - p_x0\n",
    "p_x2 = 1 - p_x1 - p_x0\n",
    "p = (p_x0, p_x1, p_x2)"
   ]
  },
  {
   "cell_type": "markdown",
   "metadata": {},
   "source": [
    "Again, we use the assumptions on replacement cost ($rc$), linear cost parameter ($\\theta_{11}$) and discounting parameter ($\\beta$) from the original notebook replicating Rust (1987). "
   ]
  },
  {
   "cell_type": "code",
   "execution_count": 4,
   "metadata": {},
   "outputs": [],
   "source": [
    "rc = 20\n",
    "theta1_1 = 0.5\n",
    "beta = 0.75"
   ]
  },
  {
   "cell_type": "markdown",
   "metadata": {},
   "source": [
    "## 1.2. Defining Functions Used for Data Generation "
   ]
  },
  {
   "cell_type": "markdown",
   "metadata": {},
   "source": [
    "To calculate the costs of each decision in each state a general myopic costs function is defined, and takes the form and parameters of the cost function, the number of states and transition probabilities as arguments. "
   ]
  },
  {
   "cell_type": "code",
   "execution_count": 5,
   "metadata": {},
   "outputs": [],
   "source": [
    "def myopic_costs(S, MF, params, p):\n",
    "    \"\"\"\n",
    "    This function computes the myopic expected cost associated with each decision for each state, \n",
    "    and returns an array of state/decision costs.\n",
    "    \n",
    "    Takes:\n",
    "        * An integer S, describing the possible states of the bus\n",
    "        * A maintenance cost function MF, which takes a vector of parameters and a `state' argument\n",
    "        * A vector params, to be supplied to the maintenance cost function MF. The first element of \n",
    "          the vector is the replacement cost rc.\n",
    "        * A (3x1) vector p describing the state transitions probabilities \n",
    "        \n",
    "    Returns:\n",
    "        * A (Nx2) array containing the maintenance and replacement costs for the N possible states of the bus\n",
    "    \"\"\"\n",
    "    rc = params[0]\n",
    "    maint_cost = [MF(s, params[1:]) for s in range(0, S)]\n",
    "    repl_cost = [rc for state in range(0, S)]\n",
    "    return np.vstack((maint_cost, repl_cost)).T"
   ]
  },
  {
   "cell_type": "markdown",
   "metadata": {},
   "source": [
    "Following the assignment, we assume linear costs of maintenance, and the following function is used to calculate them for any state s. "
   ]
  },
  {
   "cell_type": "code",
   "execution_count": 6,
   "metadata": {},
   "outputs": [],
   "source": [
    "def lin_cost(s, params):\n",
    "    \n",
    "    \"\"\"\n",
    "    This function computes the maintenance cost using the parameter theta_1_1 and the state. \n",
    "    If number of parameters supplied is wrong, it throws an error. \n",
    "    \n",
    "    Takes:\n",
    "        * An integer s, describing current state of the bus\n",
    "        * A vector params, where the second element is the parameter of the linear cost function theta_1_1 \n",
    "                 \n",
    "    Returns:\n",
    "        * An integer equal to maintenance cost of bus engine in the current state.\n",
    "    \"\"\"\n",
    "    try:\n",
    "        theta1_1, = params\n",
    "        return s*theta1_1\n",
    "    except ValueError:\n",
    "        raise ValueError\n",
    "        print(\"Wrong number of parameters specified: expected 2, got {}\".format(len(params)))"
   ]
  },
  {
   "cell_type": "markdown",
   "metadata": {},
   "source": [
    "The utility function of the decision maker for a single time period is:\n",
    "\n",
    "$$ u(x_{t}, i , \\theta_{1})  = \\left\\{\n",
    "  \\begin{array}{l l}\n",
    "    \\qquad \\enspace -c(x_t, \\theta_1) + \\epsilon_t(0)& \\quad \\text{if } i = 0\\\\\n",
    "    -RC -c(0, \\theta_1) + \\epsilon_t(1) & \\quad \\text{if } i = 1\n",
    "  \\end{array} \\right. \\quad \\text{(Errors are I.I.D. standard Gumbel)}$$\n",
    "\n",
    "Assuming logistic utility and normalizing the value, we can calculate probability of replacing the engine using the following function:"
   ]
  },
  {
   "cell_type": "code",
   "execution_count": 7,
   "metadata": {},
   "outputs": [],
   "source": [
    "def choice_prob(cost_array):\n",
    "    \"\"\"\n",
    "    Returns the probbability of each choice, conditional on an array of state/decision costs.\n",
    "    \"\"\"\n",
    "    S = cost_array.shape[0]\n",
    "    cost = cost_array - cost_array.min(1).reshape(S, -1)\n",
    "    util = np.exp(-cost)\n",
    "    pchoice = util/(np.sum(util, 1).reshape(S, -1))\n",
    "    return pchoice"
   ]
  },
  {
   "cell_type": "markdown",
   "metadata": {},
   "source": [
    "Finally, to derive conditional choice probabilities we require a contraction mapping function: "
   ]
  },
  {
   "cell_type": "code",
   "execution_count": 8,
   "metadata": {},
   "outputs": [],
   "source": [
    "def contraction_mapping(\n",
    "    S, p, MF, params, beta=0.75, threshold=1e-6, suppr_output=False\n",
    "):\n",
    "    \"\"\"\n",
    "    Compute the non-myopic expected value of the agent for each possible decision and each possible\n",
    "    state of the bus.\n",
    "    Iterate until the difference in the previously obtained expected value and the new expected value\n",
    "    is smaller than a constant.\n",
    "    Takes:\n",
    "        * A finite number of states S\n",
    "        * A state-transition probability vector p = [p(0), p(1), p(2), ..., p(k)] of length k < N\n",
    "        * A maintenance cost function MF\n",
    "        * A vector params for the cost function\n",
    "        * A discount factor beta (optional)\n",
    "        * A convergence threshold (optional)\n",
    "\n",
    "    Returns:\n",
    "        * The converged choice probabilities for the forward-looking and myopic agents for each state,\n",
    "        conditional on `params'\n",
    "    \"\"\"\n",
    "    achieved = True\n",
    "    # Initialization of the state-transition matrices: describe the state-transition probabilities\n",
    "    # if the maintenance cost is incurred, and regenerate the state to 0 if the replacement cost\n",
    "    # is incurred.\n",
    "    ST_mat = np.zeros((S, S))\n",
    "    p = np.array(p)\n",
    "    for i in range(S):\n",
    "        for j, _p in enumerate(p):\n",
    "            if i + j < S - 1:\n",
    "                ST_mat[i + j][i] = _p\n",
    "\n",
    "            elif i + j == S - 1:\n",
    "                ST_mat[S - 1][i] = p[j:].sum()\n",
    "            else:\n",
    "                pass\n",
    "\n",
    "    R_mat = np.vstack((np.ones((1, S)), np.zeros((S - 1, S))))\n",
    "\n",
    "    # Initialization of the expected value (which is also the myopic\n",
    "    # decision cost of the agent). Here, the forward-looking component is initialized at 0.\n",
    "    k = 0\n",
    "    EV = np.zeros((S, 2))\n",
    "    EV_myopic = EV_new = myopic_costs(S, MF, params, p)\n",
    "    # Contraction mapping loop\n",
    "    while abs(EV_new - EV).max() > threshold:\n",
    "        # Store the former expected value\n",
    "        EV = EV_new\n",
    "        # Obtained the probability of maintenance and replacement from the former expected value\n",
    "        pchoice = choice_prob(EV)\n",
    "        # Compute the expected cost for each state: Nx1 vector\n",
    "        ecost = (pchoice * EV).sum(1)\n",
    "        # Compute the two components of forward-looking utility: In case of maintenance,\n",
    "        # utility of future states weighted by transition probabilities. In case of replacement,\n",
    "        # the future utility is the utility of state 0\n",
    "        futil_maint = np.dot(ecost, ST_mat)\n",
    "        futil_repl = np.dot(ecost, R_mat)\n",
    "        futil = np.vstack((futil_maint, futil_repl)).T\n",
    "        # Future utility is discounted by beta, and added to the myopic cost.\n",
    "        EV_new = EV_myopic + beta * futil\n",
    "        k += 1\n",
    "        if k == 1000:\n",
    "            achieved = False\n",
    "            break\n",
    "\n",
    "    if not suppr_output:\n",
    "        if achieved:\n",
    "            print(\"Convergence achieved in {} iterations\".format(k))\n",
    "        else:\n",
    "            print(\n",
    "                \"CM could not converge! Mean difference = {:.6f}\".format(\n",
    "                    (EV_new - EV).mean()\n",
    "                )\n",
    "            )\n",
    "\n",
    "    return (choice_prob(EV_new), choice_prob(EV_myopic))"
   ]
  },
  {
   "cell_type": "markdown",
   "metadata": {},
   "source": [
    "## 1.3. Deriving Choice Probabilities"
   ]
  },
  {
   "cell_type": "markdown",
   "metadata": {},
   "source": [
    "Thus, the choice probabilities for each possible state of the bus are calculated with the contraction mapping algorithm, and when performing the simulation we will use the resulting vector as a vectir of relative expected values of replacement. We set the number of states to 70, like in the original replication of Rust (1987)."
   ]
  },
  {
   "cell_type": "code",
   "execution_count": 9,
   "metadata": {},
   "outputs": [
    {
     "name": "stdout",
     "output_type": "stream",
     "text": [
      "Convergence achieved in 54 iterations\n"
     ]
    }
   ],
   "source": [
    "#assign values to corresponding arguments of functions\n",
    "params_lin = (rc, theta1_1)\n",
    "p = (p_x0, p_x1, p_x2)\n",
    "\n",
    "# create an array with probabilities using contraction mapping\n",
    "lin_forward, _ = contraction_mapping(\n",
    "    S=70, p=p, MF=lin_cost, params=params_lin, beta=0.75\n",
    ")\n",
    "pchoice = lin_forward.T[0]"
   ]
  },
  {
   "cell_type": "markdown",
   "metadata": {},
   "source": [
    "# 2. Simulating transition path of a single bus"
   ]
  },
  {
   "cell_type": "markdown",
   "metadata": {},
   "source": [
    "## 2.1. Define functions"
   ]
  },
  {
   "cell_type": "markdown",
   "metadata": {},
   "source": [
    "We first defined the transition function that generates the new variables for the t+1 period from the values in the t period. \n",
    "\n",
    "Using the following equation we derive the relative expected value of replacement from the choice probability.:\n",
    "\n",
    "$$ ln Pr\\{a_{t} | x_{t}\\} = v(x_{t}, a_{t}) - v ( x_{t}, 0)  $$\n",
    "\n",
    "Assuming a distribution of shocks corresponding to each of the two decision in each state t: replacing ($\\epsilon_{1t}$) and maintaining ($\\epsilon_{0t}$) - to be of the form $F(x)=\\exp(-\\exp(-x)))$, we simulate replacement decisions, based on the following rule:\n",
    " \n",
    "$$ i_{t} = \\left\\{ \\begin{array}{rcl} 1 & \\mbox{if} & v(x_{t}, 1) - v ( x_{t}, 0) + \\epsilon_{t}(1) - \\epsilon_{t}(0) \\geq 0 \\\\  \n",
    "0  & \\mbox{if} & otherwise\n",
    "\\end{array}\\right. $$\n"
   ]
  },
  {
   "cell_type": "code",
   "execution_count": 10,
   "metadata": {},
   "outputs": [],
   "source": [
    "def transition(bus_array, p):\n",
    "    \"\"\"\n",
    "    Return the updated bus dataset after one decision of our agent.\n",
    "    Takes:\n",
    "        * bus_array : An array of buses, containing the identifier of the buses, their mileages, and their current\n",
    "                        state and random variables from the standard type I exteme value distribution.\n",
    "        * p: The converged choice probabities of the agent making the decision\n",
    "\n",
    "    Returns:\n",
    "        * The updated dataset of buses, with the new decisions appended at the end of the dataframe.\n",
    "    \"\"\"\n",
    "    # Recovering the number of buses, the previous mileage and the previous states of the buses\n",
    "    n_bus = int(bus_array[:, 0].max())\n",
    "    prev_mileage = bus_array[-n_bus:, 2]\n",
    "    prev_states = bus_array[-n_bus:, 3]\n",
    "    prev_choice = bus_array[-n_bus:, 1]\n",
    "\n",
    "    # Generating the new mileage and state\n",
    "    new_mileage = (1 - prev_choice) * prev_mileage + mileage_dist.rvs(size=n_bus)\n",
    "    new_states = np.floor(new_mileage / 5000)\n",
    "    # Add random variables from the standard type I extreme value distribution\n",
    "    new_shocks = np.random.gumbel(size=(2, n_bus))\n",
    "\n",
    "    # Use choice probabilities to compute the relative expected value of replacement\n",
    "    relative_expected_value_of_replacement = np.log(1 - pchoice[int(new_states[0])])\n",
    "\n",
    "    # Simulate replacement decisions:\n",
    "    if (\n",
    "        relative_expected_value_of_replacement + (new_shocks[1] - new_shocks[0])[0]\n",
    "    ) >= 0:\n",
    "        current_choice = 1\n",
    "    else:\n",
    "        current_choice = 0\n",
    "\n",
    "    # Save everything in a new array\n",
    "    new_array = np.vstack(\n",
    "        (\n",
    "            bus_array[-n_bus:, 0],\n",
    "            current_choice,\n",
    "            new_mileage,\n",
    "            new_states,\n",
    "            new_shocks,\n",
    "            relative_expected_value_of_replacement,\n",
    "        )\n",
    "    )\n",
    "\n",
    "    return np.vstack((bus_array, new_array.T))"
   ]
  },
  {
   "cell_type": "markdown",
   "metadata": {},
   "source": [
    "We then defined a function (calculate_utility) to calculate the net present value of realized payoffs. For this, we use the above definced myopic_cost function to calculate the replacement and maintenance costs for each period, given the previously definded paramteres, linear cost function and state. We follow by computing the utility for each period based on choice, costs and random shocks. Finally, using the beta paramters we calculate the net present value of realized payoffs for the bus. "
   ]
  },
  {
   "cell_type": "code",
   "execution_count": 11,
   "metadata": {},
   "outputs": [],
   "source": [
    "def calculate_utility(\n",
    "    bus_array: np.ndarray, cost_function: FunctionType, parameters: tuple, beta: float\n",
    ") -> (float, pd.DataFrame):\n",
    "\n",
    "    \"\"\"\n",
    "    Calculates the net present value of realized payoffs.\n",
    "    Takes:\n",
    "        * bus_array: An array of buses, containing the identifier of the buses, their mileages,\n",
    "                     and their current state and random variables from the standard type I\n",
    "                     exteme value distribution.\n",
    "        * cost_function: A maintenance cost function MF, which takes a vector of parameters and\n",
    "                         a `state' argument.\n",
    "        * parameters: A vector params, to be supplied to the maintenance cost function MF.\n",
    "                      The first element of the vector is the replacement cost rc.\n",
    "        * beta: Discount factor.\n",
    "    Returns:\n",
    "        * net present value of realized payoffs\n",
    "        * dataframe of relative expected values, simulated choices, costs and utilities\n",
    "\n",
    "    \"\"\"\n",
    "\n",
    "    # create Pandas Dataframe from bus array\n",
    "    df = pd.DataFrame(\n",
    "        bus_array,\n",
    "        columns=[\n",
    "            \"Identifier\",\n",
    "            \"Choice\",\n",
    "            \"Mileage\",\n",
    "            \"State\",\n",
    "            \"ϵ0\",\n",
    "            \"ϵ1\",\n",
    "            \"relative EV(repl)\",\n",
    "        ],\n",
    "    )\n",
    "\n",
    "    # add discount factor\n",
    "    df[\"β\"] = beta\n",
    "\n",
    "    # Create t - time periods\n",
    "    df[\"t\"] = df.index + 1\n",
    "\n",
    "    # For each possible State calculate the cost of maintenance\n",
    "    maintenance_cost = myopic_costs(\n",
    "        int(df[\"State\"].max() + 1), cost_function, parameters, _\n",
    "    ).T[0]\n",
    "\n",
    "    Maintenance_Cost = (\n",
    "        pd.DataFrame(maintenance_cost)\n",
    "        .reset_index()\n",
    "        .rename(columns={\"index\": \"State\", 0: \"maintenance_cost\"})\n",
    "    )\n",
    "\n",
    "    # For each possible State calculate the cost of replacement\n",
    "    replacement_cost = myopic_costs(\n",
    "        int(df[\"State\"].max() + 1), cost_function, parameters, _\n",
    "    ).T[1]\n",
    "\n",
    "    Replacement_Cost = (\n",
    "        pd.DataFrame(replacement_cost)\n",
    "        .reset_index()\n",
    "        .rename(columns={\"index\": \"State\", 0: \"replacement_cost\"})\n",
    "    )\n",
    "\n",
    "    # Merge maintenance and replacement consts to realized States\n",
    "    df = df.merge(Maintenance_Cost, on=\"State\", how=\"left\").merge(\n",
    "        Replacement_Cost, on=\"State\", how=\"left\"\n",
    "    )\n",
    "\n",
    "    # Calculate utilities for each period based on choice, cost and random shock\n",
    "    df = df.assign(\n",
    "        util=lambda x: np.where(\n",
    "            x[\"Choice\"] == 0,\n",
    "            -1 * (x[\"maintenance_cost\"]) + x[\"ϵ0\"],\n",
    "            -1 * (x[\"replacement_cost\"]) + x[\"ϵ1\"],\n",
    "        )\n",
    "    )\n",
    "\n",
    "    # drop the first column that corresponds to the first period of choice\n",
    "    df = df.loc[lambda x: x[\"t\"] > 1]\n",
    "\n",
    "    # Return the net present value of realized payoff, and the whole dataframe\n",
    "    return ((df[\"β\"] ** (df[\"t\"] - 1)) * df[\"util\"]).sum(), df"
   ]
  },
  {
   "cell_type": "markdown",
   "metadata": {},
   "source": [
    "## 2.2. Generate data 100 times and simulate decisions"
   ]
  },
  {
   "cell_type": "markdown",
   "metadata": {},
   "source": [
    "Now that we defined all the necessary functions, we generate the data for one bus and a 1000 periods for two different scenarios: when the decision in the first period is to replace the bus and when the decision is to not replace the bus. "
   ]
  },
  {
   "cell_type": "code",
   "execution_count": 12,
   "metadata": {},
   "outputs": [],
   "source": [
    "n_bus = 1\n",
    "#We predefine the inital shocks so it will be the same for each repetition and for both inital decisions\n",
    "initial_shocks = np.random.gumbel(size=(n_bus, 2))"
   ]
  },
  {
   "cell_type": "markdown",
   "metadata": {},
   "source": [
    "Intitializing the bus for the first period with $i_1=0$ (first decision is to not replace)"
   ]
  },
  {
   "cell_type": "code",
   "execution_count": 13,
   "metadata": {},
   "outputs": [],
   "source": [
    "# The bus array is a n_bus (here 1) x 7 array, where\n",
    "# the first element is the bus number (this will be 1 througout, since the number of busses is only 1)\n",
    "# the second element is the choice in the given period: 1 if replaced 0 if not\n",
    "# the third element is the mileage of the bus\n",
    "# the fourth element is the State which is a discretized value of the miles variable\n",
    "# the fifth element is the realtive excepted value of replacement for the given state derived from the choice probabilities\n",
    "# the last two elements are two shocks, one for no replacement and one for replacement\n",
    "# [\"Identifier\", \"Choice\", \"Mileage\", \"State\", \"ϵ0\", \"ϵ1\", \"relative EV(repl)\"]\n",
    "init_bus_array_0 = np.hstack(\n",
    "    (\n",
    "        np.linspace(1, n_bus, n_bus).reshape(-1, 1),\n",
    "        np.zeros((n_bus, 3)),\n",
    "        initial_shocks,\n",
    "        np.zeros((n_bus, 1)),\n",
    "    )\n",
    ")"
   ]
  },
  {
   "cell_type": "markdown",
   "metadata": {},
   "source": [
    "We generate the entire data (1000 periods) with $i_1=0$ and calculate the net present value of realized payoff 100 times."
   ]
  },
  {
   "cell_type": "code",
   "execution_count": 14,
   "metadata": {},
   "outputs": [],
   "source": [
    "U0 = []\n",
    "for i in range(1, 101):\n",
    "    n_periods = 1000\n",
    "    bus_array_0 = init_bus_array_0.copy()\n",
    "    for j in range(n_periods):\n",
    "        bus_array_0 = transition(bus_array_0, pchoice)\n",
    "    u, lin_df_ba0 = calculate_utility(bus_array_0, lin_cost, params_lin, beta)\n",
    "    U0.append(u)"
   ]
  },
  {
   "cell_type": "markdown",
   "metadata": {},
   "source": [
    "Intitializing the bus for the first period with $i_1=1$ (first decision is to replace)"
   ]
  },
  {
   "cell_type": "code",
   "execution_count": 15,
   "metadata": {},
   "outputs": [],
   "source": [
    "init_bus_array_1 = np.hstack(\n",
    "    (\n",
    "        np.linspace(1, n_bus, n_bus).reshape(-1, 1),\n",
    "        np.ones((n_bus, 1)),\n",
    "        np.zeros((n_bus, 2)),\n",
    "        initial_shocks,\n",
    "        np.zeros((n_bus, 1)),\n",
    "    )\n",
    ")"
   ]
  },
  {
   "cell_type": "markdown",
   "metadata": {},
   "source": [
    "We generate the entire data (1000 periods) with $i_1=1$ and calculate the net present value of realized payoff 100 times."
   ]
  },
  {
   "cell_type": "code",
   "execution_count": 16,
   "metadata": {},
   "outputs": [],
   "source": [
    "U1 = []\n",
    "\n",
    "for i in range(1, 101):\n",
    "    n_periods = 1000\n",
    "    bus_array_1 = init_bus_array_1\n",
    "    for j in range(n_periods):\n",
    "        bus_array_1 = transition(bus_array_1, pchoice)\n",
    "    u, lin_df_ba1 = calculate_utility(bus_array_1, lin_cost, params_lin, beta)\n",
    "    U1.append(u)"
   ]
  },
  {
   "cell_type": "markdown",
   "metadata": {},
   "source": [
    "# 3. Calculating the simulated relative expected value of replacement"
   ]
  },
  {
   "cell_type": "markdown",
   "metadata": {},
   "source": [
    "We compute the mean net present value for both intial decisions which approximates $\\beta E[V_{\\theta} (x_2, \\epsilon_2) | x_1, i]$ for $t=1, i=0$ and for $t=1, i=1$"
   ]
  },
  {
   "cell_type": "code",
   "execution_count": 17,
   "metadata": {},
   "outputs": [
    {
     "name": "stdout",
     "output_type": "stream",
     "text": [
      "Average NPV when first decision is to not replace:  -4.979817995052038\n",
      "Average NPV when first decision is to replace:  -4.98660564324068\n"
     ]
    }
   ],
   "source": [
    "U0_mean=np.mean(U0)\n",
    "U1_mean=np.mean(U1)\n",
    "print(\"Average NPV when first decision is to not replace: \", U0_mean)\n",
    "print(\"Average NPV when first decision is to replace: \", U1_mean)"
   ]
  },
  {
   "cell_type": "markdown",
   "metadata": {},
   "source": [
    "We calculate the utility of replacement and not replacement in the first period using the utility function of the decision maker for a single time period (defined in part 1.2.). The state is 0, since the bus starts with zero milage in the first period. \n",
    "$$ u(0, i , \\theta_{11})  = \\left\\{\n",
    "  \\begin{array}{l l}\n",
    "    \\qquad \\enspace -\\theta_{11} \\cdot 0 + \\epsilon_t(0)& \\quad \\text{if } i = 0\\\\\n",
    "    -RC -\\theta_{11} \\cdot 0 + \\epsilon_t(1) & \\quad \\text{if } i = 1\n",
    "  \\end{array} \\right. $$"
   ]
  },
  {
   "cell_type": "code",
   "execution_count": 18,
   "metadata": {},
   "outputs": [
    {
     "name": "stdout",
     "output_type": "stream",
     "text": [
      "Utility for the first period if no replacement:  2.4640289217422455\n",
      "Utility for the first period if replacement:  -19.988091756276344\n"
     ]
    }
   ],
   "source": [
    "u_1_0 = theta1_1 * 0 + init_bus_array_0.T[4]\n",
    "print(\"Utility for the first period if no replacement: \", u_1_0[0])\n",
    "u_1_1 = theta1_1 * 0 + init_bus_array_1.T[5] - rc\n",
    "print(\"Utility for the first period if replacement: \", u_1_1[0])"
   ]
  },
  {
   "cell_type": "markdown",
   "metadata": {},
   "source": [
    "Finally, we compute the relative expected value of replacing the engine using the following formula:\n",
    "$$ u(x_1, 1) + \\tfrac{1}{100}\\sum^{100}_{k=1} U^{(1)}_k - u(x_1, 0) - \\tfrac{1}{100}\\sum^{100}_{k=1} U^{(0)}_k $$"
   ]
  },
  {
   "cell_type": "code",
   "execution_count": 19,
   "metadata": {},
   "outputs": [
    {
     "name": "stdout",
     "output_type": "stream",
     "text": [
      "Simulated relative expected value of replacing the engine in the first period:  -22.45890832620723\n",
      "Simulated probability of replacing the engine in the first period:  1.7628690145258924e-10\n"
     ]
    }
   ],
   "source": [
    "rel_EV_repl = u_1_1 + U1_mean - u_1_0 - U0_mean\n",
    "print(\"Simulated relative expected value of replacing the engine in the first period: \", rel_EV_repl[0])\n",
    "print(\"Simulated probability of replacing the engine in the first period: \", exp(rel_EV_repl))"
   ]
  },
  {
   "cell_type": "markdown",
   "metadata": {},
   "source": [
    "### Comapring to the precise value"
   ]
  },
  {
   "cell_type": "markdown",
   "metadata": {},
   "source": [
    "The precise value of $ v(x_{t}, 1) - v ( x_{t}, 0)  $ is $ ln\\{ Pr\\{1 | x_{t}\\} $\n",
    "For $ x_{t} = 0 $ this is the log of the propbability of replacement in the first state. "
   ]
  },
  {
   "cell_type": "code",
   "execution_count": 20,
   "metadata": {},
   "outputs": [
    {
     "name": "stdout",
     "output_type": "stream",
     "text": [
      "Precise value of realtive expected value of replacing the engine in the first period:  -18.821945967752466\n",
      "Precise probability of replacing the engine in the first period:  6.694724774547467e-09\n"
     ]
    }
   ],
   "source": [
    "rel_EV_rep_0 = np.log(1 - pchoice[0])\n",
    "print(\"Precise value of realtive expected value of replacing the engine in the first period: \", rel_EV_rep_0)\n",
    "print(\"Precise probability of replacing the engine in the first period: \", 1-pchoice[0])"
   ]
  },
  {
   "cell_type": "markdown",
   "metadata": {},
   "source": [
    "The simulated relative expected value and probability of replacement in the first period is very close to the precise ones.  This large negative expected value and very small probability come from the fact that it is very unlikely that replacing a new engine and only saving one increment of maintenance cost is an optimal decision. The agent knows that he will behave optimal in the future and will replace the engine once it is optimal to replace it, thus he will not want to replace it in period one with $ x_t = 0 $. The averge NPV for replacement and no replacement in the first period is very similar, which also shows that the agent would not gain significant utility in the future by paying high replacement costs in the first period. "
   ]
  }
 ],
 "metadata": {
  "kernelspec": {
   "display_name": "Python 3",
   "language": "python",
   "name": "python3"
  },
  "language_info": {
   "codemirror_mode": {
    "name": "ipython",
    "version": 3
   },
   "file_extension": ".py",
   "mimetype": "text/x-python",
   "name": "python",
   "nbconvert_exporter": "python",
   "pygments_lexer": "ipython3",
   "version": "3.8.3"
  }
 },
 "nbformat": 4,
 "nbformat_minor": 4
}
