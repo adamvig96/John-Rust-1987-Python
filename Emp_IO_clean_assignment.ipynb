{
 "cells": [
  {
   "cell_type": "code",
   "execution_count": 1,
   "metadata": {},
   "outputs": [],
   "source": [
    "import pandas as pd\n",
    "import numpy as np\n",
    "import random as rnd\n",
    "import scipy.stats as stats\n",
    "import scipy.optimize as opt\n",
    "from types import FunctionType\n",
    "import json as json\n",
    "import matplotlib as mpl\n",
    "from math import exp\n",
    "from matplotlib import pyplot as plt\n",
    "from IPython.core.pylabtools import figsize\n",
    "from IPython.display import display\n",
    "from IPython.core.display import HTML\n",
    "\n",
    "rnd.seed(2)\n",
    "import warnings\n",
    "warnings.filterwarnings('ignore')"
   ]
  },
  {
   "cell_type": "markdown",
   "metadata": {},
   "source": [
    "## Introduction"
   ]
  },
  {
   "cell_type": "markdown",
   "metadata": {},
   "source": [
    "Following the instructions in the assignment, the code below (1) assigns values to underlying parameters, using the same assumptions as in the \"John Rust 1987 Python\" Notebook, (2) generates data on \"real\" bus engine replacement decisions to calculate the relative expected value of replacement from frequencies observed in this data, and (4) implements the algorthm from the Conditional Choice Probabilities approach (Hotz, Miller 1993) to simulate replacement decisions. Lastly, we compare the probability of engine replacement in the first period between simulated and generated data. \n",
    "\n",
    "As is evident from the description, we do not assume all parameters as given, but rather choose to keep some parts of the original code, which derive the values. This, in conjunction with extensive comments and function descriptions, is aimed at assuring that the reader always knows where these values come from."
   ]
  },
  {
   "cell_type": "markdown",
   "metadata": {},
   "source": [
    "## Initializing Parameters"
   ]
  },
  {
   "cell_type": "markdown",
   "metadata": {},
   "source": [
    "We start with setting the parameters for milage transition of buses. Assuming that the milage follows a truncated normal distribution with the mean of 6000 and standard deviation of 4000, we can calculate transition probabilities from the cumulative distribution function of the milage.  "
   ]
  },
  {
   "cell_type": "code",
   "execution_count": 2,
   "metadata": {},
   "outputs": [],
   "source": [
    "#arbitrarily choosen parameteres\n",
    "lower, upper = 0, 15000\n",
    "mu, sigma = 6000, 4000\n",
    "mileage_dist = stats.truncnorm((lower - mu) / sigma, (upper - mu) / sigma, loc=mu, scale=sigma)"
   ]
  },
  {
   "cell_type": "code",
   "execution_count": 3,
   "metadata": {},
   "outputs": [],
   "source": [
    "#calculating transition probabilities\n",
    "p_x0 = mileage_dist.cdf(5000)\n",
    "p_x1 = mileage_dist.cdf(10000) - p_x0\n",
    "p_x2 = 1 - p_x1 - p_x0\n",
    "p = (p_x0, p_x1, p_x2)"
   ]
  },
  {
   "cell_type": "markdown",
   "metadata": {},
   "source": [
    "Again, we use the assumptions on replacement cost ($rc$), linear cost parameter ($\\theta_{11}$) and discounting parameter ($\\beta$) from the original notebook replicating Rust (1987). "
   ]
  },
  {
   "cell_type": "code",
   "execution_count": 4,
   "metadata": {},
   "outputs": [],
   "source": [
    "rc = 20\n",
    "theta1_1 = 0.5\n",
    "beta = 0.75"
   ]
  },
  {
   "cell_type": "markdown",
   "metadata": {},
   "source": [
    "## Defining Functions Used for Data Generation "
   ]
  },
  {
   "cell_type": "markdown",
   "metadata": {},
   "source": [
    "To calculate the costs of each decision in each state we define a general myopic costs function, which takes the form and parameters of the cost function, the number of states and transition probabilities as arguments. "
   ]
  },
  {
   "cell_type": "code",
   "execution_count": 6,
   "metadata": {},
   "outputs": [],
   "source": [
    "def myopic_costs(S, MF, params, p):\n",
    "    \"\"\"\n",
    "    This function computes the myopic expected cost associated with each decision for each state, \n",
    "    and returns an array of state/decision costs.\n",
    "    \n",
    "    Takes:\n",
    "        * An integer S, describing the possible states of the bus\n",
    "        * A maintenance cost function MF, which takes a vector of parameters and a `state' argument\n",
    "        * A vector params, to be supplied to the maintenance cost function MF. The first element of \n",
    "          the vector is the replacement cost rc.\n",
    "        * A (3x1) vector p describing the state transitions probabilities \n",
    "        \n",
    "    Returns:\n",
    "        * A (Nx2) array containing the maintenance and replacement costs for the N possible states of the bus\n",
    "    \"\"\"\n",
    "    rc = params[0]\n",
    "    maint_cost = [MF(s, params[1:]) for s in range(0, S)]\n",
    "    repl_cost = [rc for state in range(0, S)]\n",
    "    return np.vstack((maint_cost, repl_cost)).T"
   ]
  },
  {
   "cell_type": "markdown",
   "metadata": {},
   "source": [
    "Following the assignment, we assume linear costs of maintenance, and the following function is used to calculate them for any state s. "
   ]
  },
  {
   "cell_type": "code",
   "execution_count": 7,
   "metadata": {},
   "outputs": [],
   "source": [
    "def lin_cost(s, params):\n",
    "    \n",
    "    \"\"\"\n",
    "    This function computes the maintenance cost using the parameter theta_1_1 and the state. \n",
    "    If number of parameters supplied is wrong, it throws an error. \n",
    "    \n",
    "    Takes:\n",
    "        * An integer s, describing current state of the bus\n",
    "        * A vector params, where the second element is the parameter of the linear cost function theta_1_1 \n",
    "                 \n",
    "    Returns:\n",
    "        * An integer equal to maintenance cost of bus engine in the current state.\n",
    "    \"\"\"\n",
    "    try:\n",
    "        theta1_1, = params\n",
    "        return s*theta1_1\n",
    "    except ValueError:\n",
    "        raise ValueError\n",
    "        print(\"Wrong number of parameters specified: expected 2, got {}\".format(len(params)))"
   ]
  },
  {
   "cell_type": "markdown",
   "metadata": {},
   "source": [
    "The utility function of the decision maker for a single time period is:\n",
    "\n",
    "$$ u(x_{t}, i , \\theta_{1})  = \\left\\{\n",
    "  \\begin{array}{l l}\n",
    "    \\qquad \\enspace -c(x_t, \\theta_1) + \\epsilon_t(0)& \\quad \\text{if } i = 0\\\\\n",
    "    -RC -c(0, \\theta_1) + \\epsilon_t(1) & \\quad \\text{if } i = 1\n",
    "  \\end{array} \\right. \\quad \\text{(Errors are I.I.D. standard Gumbel)}$$\n",
    "\n",
    "Assuming logistic utility and normalizing the value, we can calculate probability of replacing the engine using the following function:"
   ]
  },
  {
   "cell_type": "code",
   "execution_count": 8,
   "metadata": {},
   "outputs": [],
   "source": [
    "def choice_prob(cost_array):\n",
    "    \"\"\"\n",
    "    Returns the probbability of each choice, conditional on an array of state/decision costs.\n",
    "    \"\"\"\n",
    "    S = cost_array.shape[0]\n",
    "    cost = cost_array - cost_array.min(1).reshape(S, -1)\n",
    "    util = np.exp(-cost)\n",
    "    pchoice = util/(np.sum(util, 1).reshape(S, -1))\n",
    "    return pchoice"
   ]
  },
  {
   "cell_type": "markdown",
   "metadata": {},
   "source": [
    "Finally, to derive conditional choice probabilities we require a contraction mapping function: "
   ]
  },
  {
   "cell_type": "code",
   "execution_count": 9,
   "metadata": {},
   "outputs": [],
   "source": [
    "def contraction_mapping(\n",
    "    S, p, MF, params, beta=0.75, threshold=1e-6, suppr_output=False\n",
    "):\n",
    "    \"\"\"\n",
    "    Compute the non-myopic expected value of the agent for each possible decision and each possible\n",
    "    state of the bus.\n",
    "    Iterate until the difference in the previously obtained expected value and the new expected value\n",
    "    is smaller than a constant.\n",
    "    Takes:\n",
    "        * A finite number of states S\n",
    "        * A state-transition probability vector p = [p(0), p(1), p(2), ..., p(k)] of length k < N\n",
    "        * A maintenance cost function MF\n",
    "        * A vector params for the cost function\n",
    "        * A discount factor beta (optional)\n",
    "        * A convergence threshold (optional)\n",
    "\n",
    "    Returns:\n",
    "        * The converged choice probabilities for the forward-looking and myopic agents for each state,\n",
    "        conditional on `params'\n",
    "    \"\"\"\n",
    "    achieved = True\n",
    "    # Initialization of the state-transition matrices: describe the state-transition probabilities\n",
    "    # if the maintenance cost is incurred, and regenerate the state to 0 if the replacement cost\n",
    "    # is incurred.\n",
    "    ST_mat = np.zeros((S, S))\n",
    "    p = np.array(p)\n",
    "    for i in range(S):\n",
    "        for j, _p in enumerate(p):\n",
    "            if i + j < S - 1:\n",
    "                ST_mat[i + j][i] = _p\n",
    "\n",
    "            elif i + j == S - 1:\n",
    "                ST_mat[S - 1][i] = p[j:].sum()\n",
    "            else:\n",
    "                pass\n",
    "\n",
    "    R_mat = np.vstack((np.ones((1, S)), np.zeros((S - 1, S))))\n",
    "\n",
    "    # Initialization of the expected value (which is also the myopic\n",
    "    # decision cost of the agent). Here, the forward-looking component is initialized at 0.\n",
    "    k = 0\n",
    "    EV = np.zeros((S, 2))\n",
    "    EV_myopic = EV_new = myopic_costs(S, MF, params, p)\n",
    "    # Contraction mapping loop\n",
    "    while abs(EV_new - EV).max() > threshold:\n",
    "        # Store the former expected value\n",
    "        EV = EV_new\n",
    "        # Obtained the probability of maintenance and replacement from the former expected value\n",
    "        pchoice = choice_prob(EV)\n",
    "        # Compute the expected cost for each state: Nx1 vector\n",
    "        ecost = (pchoice * EV).sum(1)\n",
    "        # Compute the two components of forward-looking utility: In case of maintenance,\n",
    "        # utility of future states weighted by transition probabilities. In case of replacement,\n",
    "        # the future utility is the utility of state 0\n",
    "        futil_maint = np.dot(ecost, ST_mat)\n",
    "        futil_repl = np.dot(ecost, R_mat)\n",
    "        futil = np.vstack((futil_maint, futil_repl)).T\n",
    "        # Future utility is discounted by beta, and added to the myopic cost.\n",
    "        EV_new = EV_myopic + beta * futil\n",
    "        k += 1\n",
    "        if k == 1000:\n",
    "            achieved = False\n",
    "            break\n",
    "\n",
    "    if not suppr_output:\n",
    "        if achieved:\n",
    "            print(\"Convergence achieved in {} iterations\".format(k))\n",
    "        else:\n",
    "            print(\n",
    "                \"CM could not converge! Mean difference = {:.6f}\".format(\n",
    "                    (EV_new - EV).mean()\n",
    "                )\n",
    "            )\n",
    "\n",
    "    return (choice_prob(EV_new), choice_prob(EV_myopic))"
   ]
  },
  {
   "cell_type": "markdown",
   "metadata": {},
   "source": [
    "## Deriving Choice Probabilities"
   ]
  },
  {
   "cell_type": "markdown",
   "metadata": {},
   "source": [
    "Thus, the choice probabilities for each possible state of the bus are calculated with the contraction mapping algorithm, and when generating the data we will use them as given. We set the number of states to 70, like in the original replication of Rust (1987)."
   ]
  },
  {
   "cell_type": "code",
   "execution_count": 10,
   "metadata": {},
   "outputs": [
    {
     "name": "stdout",
     "output_type": "stream",
     "text": [
      "Convergence achieved in 54 iterations\n"
     ]
    }
   ],
   "source": [
    "#assign values to corresponding arguments of functions\n",
    "params_lin = (rc, theta1_1)\n",
    "p = (p_x0, p_x1, p_x2)\n",
    "\n",
    "# create an array with probabilities using contraction mapping\n",
    "lin_forward, _ = contraction_mapping(\n",
    "    S=70, p=p, MF=lin_cost, params=params_lin, beta=0.75\n",
    ")\n",
    "pchoice = lin_forward.T[0]"
   ]
  },
  {
   "cell_type": "markdown",
   "metadata": {},
   "source": [
    "## Part II"
   ]
  },
  {
   "cell_type": "markdown",
   "metadata": {},
   "source": [
    "## Bus replacement"
   ]
  },
  {
   "cell_type": "code",
   "execution_count": 38,
   "metadata": {},
   "outputs": [],
   "source": [
    "def decide(s, pchoice):\n",
    "    \"\"\"\n",
    "    Make a decision to maintain or replace the bus, based on a probability of choice p\n",
    "    and a current state s\n",
    "    \"\"\"\n",
    "    s = int(s)\n",
    "\n",
    "    return np.random.choice([0, 1], p=[pchoice[s], 1 - pchoice[s]])\n",
    "\n",
    "\n",
    "def transition(bus_array, p):\n",
    "    \"\"\"\n",
    "    Return the updated bus dataset after one decision of our agent.\n",
    "    Takes:\n",
    "        * bus_array : An array of buses, containing the identifier of the buses, their mileages, and their current\n",
    "                        state and random variables from the standard type I exteme value distribution.\n",
    "        * pchoice : The converged choice probabities of the agent making the decision\n",
    "\n",
    "    Returns:\n",
    "        * The updated dataset of buses, with the new decisions appended at the end of the dataframe.\n",
    "    \"\"\"\n",
    "    # Recovering the number of buses, the previous mileage and the previous states of the buses\n",
    "    n_bus = int(bus_array[:, 0].max())\n",
    "    prev_mileage = bus_array[-n_bus:, 2]\n",
    "    prev_states = bus_array[-n_bus:, 3]\n",
    "    # Generating choices from choice probabilities, conditional on the state of each bus\n",
    "    choices = np.array([decide(x, pchoice) for x in prev_states])\n",
    "\n",
    "    # Generating the new mileage and state\n",
    "    new_mileage = (1 - choices) * prev_mileage + mileage_dist.rvs(size=n_bus)\n",
    "    new_states = np.floor(new_mileage / 5000)\n",
    "    new_array = np.vstack(\n",
    "        (\n",
    "            bus_array[-n_bus:, 0],\n",
    "            np.zeros(n_bus),\n",
    "            new_mileage,\n",
    "            new_states,\n",
    "            np.random.gumbel(\n",
    "                size=(2, n_bus)\n",
    "            ),  # Here, we add random variables from the standard type I extreme value\n",
    "            # distribution for every t period\n",
    "        )\n",
    "    )\n",
    "    bus_array[-n_bus:, 1] = choices\n",
    "    return np.vstack((bus_array, new_array.T))"
   ]
  },
  {
   "cell_type": "code",
   "execution_count": 41,
   "metadata": {},
   "outputs": [],
   "source": [
    "def calculate_utility(\n",
    "    bus_array: np.ndarray, cost_function: FunctionType, parameters: tuple, beta: float\n",
    ") -> (float, pd.DataFrame):\n",
    "\n",
    "    \"\"\"\n",
    "    Calculates the net present value of realized payoffs.\n",
    "    Takes:\n",
    "        * bus_array: An array of buses, containing the identifier of the buses, their mileages,\n",
    "                     and their current state and random variables from the standard type I\n",
    "                     exteme value distribution.\n",
    "        * cost_function: A maintenance cost function MF, which takes a vector of parameters and\n",
    "                         a `state' argument.\n",
    "        * parameters: A vector params, to be supplied to the maintenance cost function MF.\n",
    "                      The first element of the vector is the replacement cost rc.\n",
    "        * beta: Discount factor.\n",
    "    Returns:\n",
    "        * net present value of realized payoffs\n",
    "        * dataframe of relative expected values, simulated choices, costs and utilities\n",
    "\n",
    "    \"\"\"\n",
    "\n",
    "    # create Pandas Dataframe from bus array\n",
    "    df = pd.DataFrame(\n",
    "        bus_array, columns=[\"Identifier\", \"Choice\", \"Mileage\", \"State\", \"ϵ0\", \"ϵ1\"]\n",
    "    )\n",
    "\n",
    "    # add discount factor\n",
    "    df[\"β\"] = beta\n",
    "\n",
    "    # Compute the relative expected value of replacement from choice probabilities\n",
    "    # and take the log of probabilities\n",
    "    df[\"Relative_ERepl\"] = (\n",
    "        df.groupby(\"State\")[\"Choice\"]\n",
    "        .transform(\"mean\")\n",
    "        .apply(lambda x: np.where(x == 0, -1 * np.inf, np.log(x)))\n",
    "    )\n",
    "\n",
    "    # Simulate replacement decisions:\n",
    "    df[\"simulated_choice\"] = np.where(\n",
    "        (df[\"Relative_ERepl\"] + df[\"ϵ1\"] - df[\"ϵ0\"]) >= 0, 1, 0\n",
    "    )\n",
    "\n",
    "    # Create t - time periods\n",
    "    df[\"t\"] = df.index + 1\n",
    "\n",
    "    # For each possible State calculate the cost of maintenance\n",
    "    maintenance_cost = myopic_costs(\n",
    "        int(df[\"State\"].max() + 1), cost_function, parameters, _\n",
    "    ).T[0]\n",
    "\n",
    "    Maintenance_Cost = (\n",
    "        pd.DataFrame(maintenance_cost)\n",
    "        .reset_index()\n",
    "        .rename(columns={\"index\": \"State\", 0: \"maintenance_cost\"})\n",
    "    )\n",
    "\n",
    "    # For each possible State calculate the cost of replacement\n",
    "    replacement_cost = myopic_costs(\n",
    "        int(df[\"State\"].max() + 1), cost_function, parameters, _\n",
    "    ).T[1]\n",
    "\n",
    "    Replacement_Cost = (\n",
    "        pd.DataFrame(replacement_cost)\n",
    "        .reset_index()\n",
    "        .rename(columns={\"index\": \"State\", 0: \"replacement_cost\"})\n",
    "    )\n",
    "\n",
    "    # Merge maintenance and replacement consts to realized States\n",
    "    df = df.merge(Maintenance_Cost, on=\"State\", how=\"left\").merge(\n",
    "        Replacement_Cost, on=\"State\", how=\"left\"\n",
    "    )\n",
    "\n",
    "    # Calculate utilities for each period based on simulated choice,\n",
    "    # cost and random shock\n",
    "    df = df.assign(\n",
    "        util=lambda x: np.where(\n",
    "            x[\"simulated_choice\"] == 0,\n",
    "            -1 * (x[\"maintenance_cost\"]) + x[\"ϵ0\"],\n",
    "            -1 * (x[\"replacement_cost\"]) + x[\"ϵ1\"],\n",
    "        )\n",
    "    )\n",
    "\n",
    "    # drop the first column that corresponds to the first period of choice\n",
    "    df = df.loc[lambda x: x[\"t\"] > 1]\n",
    "\n",
    "    # Return the net present value of realized payoff, and the whole dataframe\n",
    "    return ((df[\"β\"] ** (df[\"t\"] - 1)) * df[\"util\"]).sum(), df"
   ]
  },
  {
   "cell_type": "markdown",
   "metadata": {},
   "source": [
    "# Part III"
   ]
  },
  {
   "cell_type": "code",
   "execution_count": 42,
   "metadata": {},
   "outputs": [],
   "source": [
    "n_bus = 1\n",
    "initial_shocks = np.random.gumbel(size=(n_bus, 2))\n",
    "init_bus_array_0 = np.hstack(\n",
    "    (\n",
    "        np.linspace(1, n_bus, n_bus).reshape(-1, 1),\n",
    "        np.zeros((n_bus, 3)),\n",
    "        initial_shocks,\n",
    "    )\n",
    ")"
   ]
  },
  {
   "cell_type": "code",
   "execution_count": 43,
   "metadata": {},
   "outputs": [
    {
     "name": "stdout",
     "output_type": "stream",
     "text": [
      "10\n",
      "20\n",
      "30\n",
      "40\n",
      "50\n",
      "60\n",
      "70\n",
      "80\n",
      "90\n",
      "100\n",
      "[-0.55099865]\n"
     ]
    }
   ],
   "source": [
    "U0 = []\n",
    "for i in range(1, 101):\n",
    "    n_periods = 1000\n",
    "    bus_array_0 = init_bus_array_0.copy()\n",
    "    if i % 10 == 0:\n",
    "        print(i)\n",
    "    for j in range(n_periods):\n",
    "        bus_array_0 = transition(bus_array_0, pchoice)\n",
    "    u, lin_df_ba0 = calculate_utility(bus_array_0, lin_cost, params_lin, beta)\n",
    "    U0.append(u)\n",
    "u_1_0 = theta1_1 * 0 + init_bus_array_0.T[4]\n",
    "print(u_1_0)"
   ]
  },
  {
   "cell_type": "code",
   "execution_count": 44,
   "metadata": {},
   "outputs": [
    {
     "name": "stdout",
     "output_type": "stream",
     "text": [
      "10\n",
      "20\n",
      "30\n",
      "40\n",
      "50\n",
      "60\n",
      "70\n",
      "80\n",
      "90\n",
      "100\n",
      "[-19.78962568]\n"
     ]
    }
   ],
   "source": [
    "U1 = []\n",
    "init_bus_array_1 = np.hstack(\n",
    "    (\n",
    "        np.linspace(1, n_bus, n_bus).reshape(-1, 1),\n",
    "        np.ones((n_bus, 1)),\n",
    "        np.zeros((n_bus, 2)),\n",
    "        initial_shocks,\n",
    "    )\n",
    ")\n",
    "for i in range(1, 101):\n",
    "    n_periods = 1000\n",
    "    bus_array_1 = init_bus_array_1\n",
    "    if i % 10 == 0:\n",
    "        print(i)\n",
    "    for j in range(n_periods):\n",
    "        bus_array_1 = transition(bus_array_1, pchoice)\n",
    "    u, lin_df_ba1 = calculate_utility(bus_array_1, lin_cost, params_lin, beta)\n",
    "    U1.append(u)\n",
    "u_1_1 = theta1_1 * 0 + init_bus_array_1.T[5] - rc\n",
    "print(u_1_1)"
   ]
  },
  {
   "cell_type": "code",
   "execution_count": 45,
   "metadata": {},
   "outputs": [],
   "source": [
    "U0_mean=np.mean(U0)"
   ]
  },
  {
   "cell_type": "code",
   "execution_count": 46,
   "metadata": {},
   "outputs": [],
   "source": [
    "U1_mean=np.mean(U1)"
   ]
  },
  {
   "cell_type": "code",
   "execution_count": 47,
   "metadata": {},
   "outputs": [
    {
     "data": {
      "text/plain": [
       "-4.502645512037192"
      ]
     },
     "execution_count": 47,
     "metadata": {},
     "output_type": "execute_result"
    }
   ],
   "source": [
    "U0_mean"
   ]
  },
  {
   "cell_type": "code",
   "execution_count": 48,
   "metadata": {},
   "outputs": [
    {
     "data": {
      "text/plain": [
       "-4.609950022572632"
      ]
     },
     "execution_count": 48,
     "metadata": {},
     "output_type": "execute_result"
    }
   ],
   "source": [
    "U1_mean"
   ]
  },
  {
   "cell_type": "code",
   "execution_count": 49,
   "metadata": {},
   "outputs": [
    {
     "data": {
      "text/plain": [
       "array([-19.78962568])"
      ]
     },
     "execution_count": 49,
     "metadata": {},
     "output_type": "execute_result"
    }
   ],
   "source": [
    "u_1_1"
   ]
  },
  {
   "cell_type": "code",
   "execution_count": 50,
   "metadata": {},
   "outputs": [
    {
     "data": {
      "text/plain": [
       "array([-0.55099865])"
      ]
     },
     "execution_count": 50,
     "metadata": {},
     "output_type": "execute_result"
    }
   ],
   "source": [
    "u_1_0"
   ]
  },
  {
   "cell_type": "code",
   "execution_count": 51,
   "metadata": {},
   "outputs": [
    {
     "data": {
      "text/plain": [
       "3.964319842513388e-09"
      ]
     },
     "execution_count": 51,
     "metadata": {},
     "output_type": "execute_result"
    }
   ],
   "source": [
    "rel_EV_repl = u_1_1 + U1_mean - u_1_0 - U0_mean\n",
    "exp(rel_EV_repl)"
   ]
  },
  {
   "cell_type": "code",
   "execution_count": 52,
   "metadata": {},
   "outputs": [
    {
     "data": {
      "text/plain": [
       "array([-19.34593154])"
      ]
     },
     "execution_count": 52,
     "metadata": {},
     "output_type": "execute_result"
    }
   ],
   "source": [
    "rel_EV_repl"
   ]
  },
  {
   "cell_type": "code",
   "execution_count": null,
   "metadata": {},
   "outputs": [],
   "source": []
  }
 ],
 "metadata": {
  "kernelspec": {
   "display_name": "Python3 (briq)",
   "language": "python",
   "name": "briq"
  },
  "language_info": {
   "codemirror_mode": {
    "name": "ipython",
    "version": 3
   },
   "file_extension": ".py",
   "mimetype": "text/x-python",
   "name": "python",
   "nbconvert_exporter": "python",
   "pygments_lexer": "ipython3",
   "version": "3.7.9"
  }
 },
 "nbformat": 4,
 "nbformat_minor": 4
}
